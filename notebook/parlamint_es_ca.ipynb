{
  "nbformat": 4,
  "nbformat_minor": 0,
  "metadata": {
    "colab": {
      "provenance": [],
      "collapsed_sections": [],
      "authorship_tag": "ABX9TyMXAnvyee/h758p0Uh7/Wgk",
      "include_colab_link": true
    },
    "kernelspec": {
      "name": "python3",
      "display_name": "Python 3"
    },
    "language_info": {
      "name": "python"
    },
    "accelerator": "GPU"
  },
  "cells": [
    {
      "cell_type": "markdown",
      "metadata": {
        "id": "view-in-github",
        "colab_type": "text"
      },
      "source": [
        "<a href=\"https://colab.research.google.com/github/rjzevallos/Churana/blob/main/notebook/parlamint_es_ca.ipynb\" target=\"_parent\"><img src=\"https://colab.research.google.com/assets/colab-badge.svg\" alt=\"Open In Colab\"/></a>"
      ]
    },
    {
      "cell_type": "markdown",
      "source": [
        "#Linguistic annotation of Catalan Parliamentary speeches\n",
        "The Parla-CLARIN proposal involves the linguistic annotation of the parliamentary transcriptions. In this notebook, we present a way to accomplish this annotation given a corpus in XML format.\n",
        "\n",
        "The Catalan Parliament has tow official languages: catalan and spanish. A complete linguistic annotation should include:\n",
        "1. Tokenization and sentence segmentation\n",
        "2. Lemmatization and UD morphological features\n",
        "3. UD syntactic annotations\n",
        "4. NER marking (PER, LOC, ORG, MISC)\n",
        "\n",
        "\n",
        "We conduct the linguistic annotation using Spacy, which offers the feautures listed above, although, it does not identify contractions like \"del\" or \"al\".  This issue may impply that Spacy is not the best option for this task. Nevertheless, we expect that the guidelines exposed here can be used with another NLP library."
      ],
      "metadata": {
        "id": "_jBCuHY2YQyL"
      }
    },
    {
      "cell_type": "markdown",
      "source": [
        "##Main Libraries\n",
        "\n",
        "The main libraries applied are:\n",
        "* Spacy for the linguistic annotation, and Spacy_conll to format the result.\n",
        "* xml.etree.ElementTree to parse the XML source file and to create the new XML tree."
      ],
      "metadata": {
        "id": "vwXwcFn_YU7a"
      }
    },
    {
      "cell_type": "markdown",
      "source": [
        "###Installation"
      ],
      "metadata": {
        "id": "SYOe9Ji0YazJ"
      }
    },
    {
      "cell_type": "code",
      "execution_count": null,
      "metadata": {
        "id": "b5TqIbFeYFVl"
      },
      "outputs": [],
      "source": [
        "%%capture\n",
        "!git clone https://github.com/IULATERM-TRL-UPF/ParlaMint_ES-CT\n",
        "!python -m pip install -r ParlaMint_ES-CT/requirements.txt\n",
        "!python -m spacy download ca_core_news_trf\n",
        "!python -m spacy download es_core_news_sm"
      ]
    },
    {
      "cell_type": "markdown",
      "source": [
        "##Run Scripts\n",
        "\n",
        "In this section you will test the script to generate the TEI file from the docx file. The TEI file contains the linguistic annotations of the texts of the docx file according to the requirements."
      ],
      "metadata": {
        "id": "8Z-X9N4HUijN"
      }
    },
    {
      "cell_type": "code",
      "source": [
        "#@title ## Docx File Folder\n",
        "\n",
        "#@markdown ### In this case you can put \"ParlaMint_ES-CT/samples/\" or another \n",
        "\n",
        "#@markdown ---\n",
        "#@markdown ### Enter a file path:\n",
        "docx_file_path = \"ParlaMint_ES-CT/samples/\" #@param {type:\"string\"}\n",
        "#@markdown ---"
      ],
      "metadata": {
        "cellView": "form",
        "id": "kTb5RztxS6ft"
      },
      "execution_count": null,
      "outputs": []
    },
    {
      "cell_type": "code",
      "source": [
        "#@title ## TEI File Folder\n",
        "\n",
        "#@markdown ### In this case you can put \"ParlaMint_ES-CT/process/\"\" or another \n",
        "\n",
        "#@markdown ---\n",
        "#@markdown ### Enter a file path:\n",
        "tei_file_path = \"ParlaMint_ES-CT/process/\" #@param {type:\"string\"}\n",
        "#@markdown ---"
      ],
      "metadata": {
        "cellView": "form",
        "id": "Maf75-pDUQEH"
      },
      "execution_count": null,
      "outputs": []
    },
    {
      "cell_type": "code",
      "source": [
        "!python ParlaMint_ES-CT/src/main.py -i $docx_file_path  -o $tei_file_path"
      ],
      "metadata": {
        "id": "nIWF9ShHUp-4"
      },
      "execution_count": null,
      "outputs": []
    }
  ]
}